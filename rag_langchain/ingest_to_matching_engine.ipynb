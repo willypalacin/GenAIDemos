{
  "cells": [
    {
      "cell_type": "markdown",
      "id": "7aZWXpbf0Eph",
      "metadata": {
        "id": "7aZWXpbf0Eph"
      },
      "source": [
        "# Welcome to Colab Enterprise <img src=\"https://lh3.googleusercontent.com/UiNooY4LUgW_oTvpsNhPpQzsstV5W8F7rYgxgGBD85cWJoLmrOzhVs_ksK_vgx40SHs7jCqkTkCk=e14-rj-sc0xffffff-h130-w32\" alt=\"Vertex AI logo\">\n",
        "\n",
        "Connect to a Runtime and begin!"
      ]
    },
    {
      "cell_type": "code",
      "execution_count": null,
      "id": "35856bf2-aa5e-436b-977a-9e5725b1a595",
      "metadata": {
        "colab": {
          "base_uri": "https://localhost:8080/"
        },
        "executionInfo": {
          "elapsed": 42779,
          "status": "ok",
          "timestamp": 1694069824004,
          "user": {
            "displayName": "",
            "userId": ""
          },
          "user_tz": -120
        },
        "id": "35856bf2-aa5e-436b-977a-9e5725b1a595",
        "outputId": "5a09d45e-3f2e-418a-e408-807b018ebe29",
        "trusted": true
      },
      "outputs": [
        {
          "name": "stdout",
          "output_type": "stream",
          "text": [
            "\u001b[33mWARNING: Running pip as the 'root' user can result in broken permissions and conflicting behaviour with the system package manager. It is recommended to use a virtual environment instead: https://pip.pypa.io/warnings/venv\u001b[0m\u001b[33m\n",
            "\u001b[0m\u001b[33mWARNING: Running pip as the 'root' user can result in broken permissions and conflicting behaviour with the system package manager. It is recommended to use a virtual environment instead: https://pip.pypa.io/warnings/venv\u001b[0m\u001b[33m\n",
            "\u001b[0m\u001b[33mWARNING: Running pip as the 'root' user can result in broken permissions and conflicting behaviour with the system package manager. It is recommended to use a virtual environment instead: https://pip.pypa.io/warnings/venv\u001b[0m\u001b[33m\n",
            "\u001b[0m\u001b[33mWARNING: Running pip as the 'root' user can result in broken permissions and conflicting behaviour with the system package manager. It is recommended to use a virtual environment instead: https://pip.pypa.io/warnings/venv\u001b[0m\u001b[33m\n",
            "\u001b[0m\u001b[33mWARNING: Running pip as the 'root' user can result in broken permissions and conflicting behaviour with the system package manager. It is recommended to use a virtual environment instead: https://pip.pypa.io/warnings/venv\u001b[0m\u001b[33m\n",
            "\u001b[0m"
          ]
        }
      ],
      "source": [
        "!pip install google-cloud-storage --quiet\n",
        "!pip install --user --upgrade google-cloud-aiplatform==1.31.0 langchain==0.0.201 --quiet\n",
        "!pip install google-cloud-aiplatform>=1.25.0 --quiet\n",
        "! pip install --user unstructured==0.7.5 pdf2image==1.16.3 pytesseract==0.3.10 pdfminer.six==20221105 --quiet\n",
        "\n"
      ]
    },
    {
      "cell_type": "code",
      "execution_count": null,
      "id": "9YwU-Jc9b5Jg",
      "metadata": {
        "colab": {
          "base_uri": "https://localhost:8080/"
        },
        "executionInfo": {
          "elapsed": 5,
          "status": "ok",
          "timestamp": 1694052568699,
          "user": {
            "displayName": "",
            "userId": ""
          },
          "user_tz": -120
        },
        "id": "9YwU-Jc9b5Jg",
        "outputId": "7b9bb97e-66f2-422a-c741-2379367e2648"
      },
      "outputs": [
        {
          "data": {
            "text/plain": [
              "{'status': 'ok', 'restart': True}"
            ]
          },
          "execution_count": 85,
          "metadata": {},
          "output_type": "execute_result"
        }
      ],
      "source": [
        "import IPython\n",
        "\n",
        "app = IPython.Application.instance()\n",
        "app.kernel.do_shutdown(True)"
      ]
    },
    {
      "cell_type": "code",
      "execution_count": null,
      "id": "2LFm4Y9bqunA",
      "metadata": {
        "id": "2LFm4Y9bqunA"
      },
      "outputs": [],
      "source": [
        "import os\n",
        "import urllib.request\n",
        "\n",
        "if not os.path.exists(\"utils\"):\n",
        "    os.makedirs(\"utils\")\n",
        "\n",
        "url_prefix = \"https://raw.githubusercontent.com/GoogleCloudPlatform/generative-ai/main/language/use-cases/document-qa/utils\"\n",
        "files = [\"__init__.py\", \"matching_engine.py\", \"matching_engine_utils.py\"]\n",
        "\n",
        "for fname in files:\n",
        "    urllib.request.urlretrieve(f\"{url_prefix}/{fname}\", filename=f\"utils/{fname}\")"
      ]
    },
    {
      "cell_type": "code",
      "execution_count": 47,
      "id": "8x6-KkMLcH4S",
      "metadata": {
        "executionInfo": {
          "elapsed": 3,
          "status": "ok",
          "timestamp": 1694073055054,
          "user": {
            "displayName": "",
            "userId": ""
          },
          "user_tz": -120
        },
        "id": "8x6-KkMLcH4S"
      },
      "outputs": [],
      "source": [
        "from google.cloud import vision\n",
        "import vertexai\n",
        "import requests\n",
        "import subprocess\n",
        "from vertexai.language_models import TextGenerationModel\n",
        "import langchain\n",
        "import time\n",
        "from langchain.chains import RetrievalQA\n",
        "from langchain.document_loaders import GCSDirectoryLoader\n",
        "from langchain.embeddings import VertexAIEmbeddings\n",
        "from langchain.llms import VertexAI\n",
        "from langchain.prompts import PromptTemplate\n",
        "from langchain.text_splitter import RecursiveCharacterTextSplitter\n",
        "from pydantic import BaseModel\n",
        "from typing import List\n",
        "import uuid\n",
        "import numpy as np\n",
        "import json\n",
        "import textwrap\n",
        "\n",
        "\n",
        "\n",
        "# Import custom Matching Engine packages\n",
        "from utils.matching_engine import MatchingEngine\n",
        "from utils.matching_engine_utils import MatchingEngineUtils\n"
      ]
    },
    {
      "cell_type": "code",
      "execution_count": null,
      "id": "ywOMlkxJdsm1",
      "metadata": {
        "colab": {
          "base_uri": "https://localhost:8080/"
        },
        "executionInfo": {
          "elapsed": 45882,
          "status": "ok",
          "timestamp": 1694052614578,
          "user": {
            "displayName": "",
            "userId": ""
          },
          "user_tz": -120
        },
        "id": "ywOMlkxJdsm1",
        "outputId": "d4172a17-771e-438e-dbb4-a048e3c288f9"
      },
      "outputs": [
        {
          "name": "stdout",
          "output_type": "stream",
          "text": [
            "Go to the following link in your browser:\n",
            "\n",
            "    https://accounts.google.com/o/oauth2/auth?response_type=code&client_id=764086051850-6qr4p6gpi6hn506pt8ejuq83di341hur.apps.googleusercontent.com&redirect_uri=https%3A%2F%2Fsdk.cloud.google.com%2Fapplicationdefaultauthcode.html&scope=openid+https%3A%2F%2Fwww.googleapis.com%2Fauth%2Fuserinfo.email+https%3A%2F%2Fwww.googleapis.com%2Fauth%2Fcloud-platform+https%3A%2F%2Fwww.googleapis.com%2Fauth%2Fsqlservice.login&state=zNlpN3sfYadOJTsGAik6JPxnTXhIvU&prompt=consent&access_type=offline&code_challenge=ttXK0lF6f-FpnWfdXQyqOl9PgKBBEJvOeKxjPSQwS9k&code_challenge_method=S256\n",
            "\n",
            "Enter authorization code: 4/0Adeu5BVKNHDQG0JYecMUV4Gr3n4QPR4vaY49KbxdKaddN4lXa4aDY0ZY9jwr5y1-ot0i3Q\n",
            "\n",
            "Credentials saved to file: [/content/.config/application_default_credentials.json]\n",
            "\n",
            "These credentials will be used by any library that requests Application Default Credentials (ADC).\n",
            "\n",
            "Quota project \"project-demo-389821\" was added to ADC which can be used by Google client libraries for billing and quota. Note that some services may still bill the project owning the resource.\n"
          ]
        }
      ],
      "source": [
        "!gcloud auth application-default login -q"
      ]
    },
    {
      "cell_type": "code",
      "execution_count": 71,
      "id": "HcZsFmTrYERl",
      "metadata": {
        "executionInfo": {
          "elapsed": 376,
          "status": "ok",
          "timestamp": 1694073507196,
          "user": {
            "displayName": "",
            "userId": ""
          },
          "user_tz": -120
        },
        "id": "HcZsFmTrYERl"
      },
      "outputs": [],
      "source": [
        "# Variable definition\n",
        "\n",
        "PROJECT_ID = \"project-demo-389821\"  # @param {type:\"string\"}\n",
        "REGION = \"us-central1\"  # @param {type:\"string\"}\n",
        "GCS_BUCKET_DOCS = f\"{PROJECT_ID}-documents\"\n",
        "folder_prefix = \"documents/\"\n",
        "\n",
        "ME_REGION = REGION\n",
        "ME_INDEX_NAME = f\"{PROJECT_ID}-me-index\"  # @param {type:\"string\"}\n",
        "ME_EMBEDDING_DIR = f\"{PROJECT_ID}-me-bucket\"  # @param {type:\"string\"}\n",
        "ME_DIMENSIONS = 768\n",
        "EMBEDDING_QPM = 100\n",
        "EMBEDDING_NUM_BATCH = 5\n",
        "\n",
        "vertexai.init(project=PROJECT_ID, location=REGION)\n",
        "url_img_cpt = \"https://us-central1-aiplatform.googleapis.com/v1/projects/{}/locations/{}/publishers/google/models/imagetext:predict\".format(PROJECT_ID, REGION)"
      ]
    },
    {
      "cell_type": "code",
      "execution_count": 50,
      "id": "oZISBMZ9YC8t",
      "metadata": {
        "executionInfo": {
          "elapsed": 3,
          "status": "ok",
          "timestamp": 1694073075518,
          "user": {
            "displayName": "",
            "userId": ""
          },
          "user_tz": -120
        },
        "id": "oZISBMZ9YC8t"
      },
      "outputs": [],
      "source": [
        "def rate_limit(max_per_minute):\n",
        "    period = 60 / max_per_minute\n",
        "    print(\"Waiting\")\n",
        "    while True:\n",
        "        before = time.time()\n",
        "        yield\n",
        "        after = time.time()\n",
        "        elapsed = after - before\n",
        "        sleep_time = max(0, period - elapsed)\n",
        "        if sleep_time > 0:\n",
        "            print(\".\", end=\"\")\n",
        "            time.sleep(sleep_time)\n",
        "\n",
        "\n",
        "class CustomVertexAIEmbeddings(VertexAIEmbeddings, BaseModel):\n",
        "    requests_per_minute: int\n",
        "    num_instances_per_batch: int\n",
        "\n",
        "    # Overriding embed_documents method\n",
        "    def embed_documents(self, texts: List[str]):\n",
        "        limiter = rate_limit(self.requests_per_minute)\n",
        "        results = []\n",
        "        docs = list(texts)\n",
        "\n",
        "        while docs:\n",
        "            # Working in batches because the API accepts maximum 5\n",
        "            # documents per request to get embeddings\n",
        "            head, docs = (\n",
        "                docs[: self.num_instances_per_batch],\n",
        "                docs[self.num_instances_per_batch :],\n",
        "            )\n",
        "            chunk = self.client.get_embeddings(head)\n",
        "            results.extend(chunk)\n",
        "            next(limiter)\n",
        "\n",
        "        return [r.values for r in results]"
      ]
    },
    {
      "cell_type": "code",
      "execution_count": 51,
      "id": "CPA5Furonhiz",
      "metadata": {
        "executionInfo": {
          "elapsed": 3,
          "status": "ok",
          "timestamp": 1694073078163,
          "user": {
            "displayName": "",
            "userId": ""
          },
          "user_tz": -120
        },
        "id": "CPA5Furonhiz"
      },
      "outputs": [],
      "source": [
        "llm = VertexAI(\n",
        "    model_name=\"text-bison\",\n",
        "    max_output_tokens=1024,\n",
        "    temperature=0.2,\n",
        "    top_p=0.8,\n",
        "    top_k=40,\n",
        "    verbose=True,\n",
        ")\n",
        "\n",
        "# Embeddings API integrated with langChain\n",
        "\n",
        "embeddings = CustomVertexAIEmbeddings(\n",
        "    requests_per_minute=EMBEDDING_QPM,\n",
        "    num_instances_per_batch=EMBEDDING_NUM_BATCH,\n",
        ")"
      ]
    },
    {
      "cell_type": "code",
      "execution_count": 52,
      "id": "GtWndaOonmgX",
      "metadata": {
        "colab": {
          "base_uri": "https://localhost:8080/"
        },
        "executionInfo": {
          "elapsed": 5660,
          "status": "ok",
          "timestamp": 1694073226218,
          "user": {
            "displayName": "",
            "userId": ""
          },
          "user_tz": -120
        },
        "id": "GtWndaOonmgX",
        "outputId": "fe112f5b-8eba-45ee-da07-dea92f4ba6fe"
      },
      "outputs": [
        {
          "name": "stdout",
          "output_type": "stream",
          "text": [
            "+ gsutil mb -p project-demo-389821 -l us-central1 gs://project-demo-389821-me-bucket\n",
            "Creating gs://project-demo-389821-me-bucket/...\n",
            "ServiceException: 409 A Cloud Storage bucket named 'project-demo-389821-me-bucket' already exists. Try another name. Bucket names must be globally unique across all Google Cloud projects, including those outside of your organization.\n",
            "+ gsutil cp embeddings_0.json gs://project-demo-389821-me-bucket/init_index/embeddings_0.json\n",
            "Copying file://embeddings_0.json [Content-Type=application/json]...\n",
            "/ [1 files][  3.8 KiB/  3.8 KiB]                                                \n",
            "Operation completed over 1 objects/3.8 KiB.                                      \n"
          ]
        }
      ],
      "source": [
        "! set -x && gsutil mb -p $PROJECT_ID -l us-central1 gs://$ME_EMBEDDING_DIR\n",
        "init_embedding = {\"id\": str(uuid.uuid4()), \"embedding\": list(np.zeros(ME_DIMENSIONS))}\n",
        "\n",
        "# dump embedding to a local file\n",
        "with open(\"embeddings_0.json\", \"w\") as f:\n",
        "    json.dump(init_embedding, f)\n",
        "\n",
        "# write embedding to Cloud Storage\n",
        "! set -x && gsutil cp embeddings_0.json gs://{ME_EMBEDDING_DIR}/init_index/embeddings_0.json"
      ]
    },
    {
      "cell_type": "code",
      "execution_count": 53,
      "id": "5m5VCeHJnrbf",
      "metadata": {
        "executionInfo": {
          "elapsed": 1739,
          "status": "ok",
          "timestamp": 1694073230003,
          "user": {
            "displayName": "",
            "userId": ""
          },
          "user_tz": -120
        },
        "id": "5m5VCeHJnrbf"
      },
      "outputs": [],
      "source": [
        "mengine = MatchingEngineUtils(PROJECT_ID, ME_REGION, ME_INDEX_NAME)"
      ]
    },
    {
      "cell_type": "code",
      "execution_count": 54,
      "id": "HMdq95Canx0Y",
      "metadata": {
        "colab": {
          "base_uri": "https://localhost:8080/"
        },
        "executionInfo": {
          "elapsed": 1504,
          "status": "ok",
          "timestamp": 1694073235586,
          "user": {
            "displayName": "",
            "userId": ""
          },
          "user_tz": -120
        },
        "id": "HMdq95Canx0Y",
        "outputId": "9826d99d-565b-4f86-8785-d738e664b101"
      },
      "outputs": [
        {
          "name": "stdout",
          "output_type": "stream",
          "text": [
            "projects/865280436803/locations/us-central1/indexes/3127318932650721280\n",
            "Index endpoint resource name: projects/865280436803/locations/us-central1/indexEndpoints/8335731901704699904\n",
            "Index endpoint public domain name: 1629608.us-central1-865280436803.vdb.vertexai.goog\n",
            "Deployed indexes on the index endpoint:\n",
            "    project_demo_389821_me_index_20230906235033\n"
          ]
        }
      ],
      "source": [
        "index = mengine.create_index(\n",
        "    embedding_gcs_uri=f\"gs://{ME_EMBEDDING_DIR}/init_index\",\n",
        "    dimensions=ME_DIMENSIONS,\n",
        "    index_update_method=\"streaming\",\n",
        "    index_algorithm=\"tree-ah\",\n",
        ")\n",
        "if index:\n",
        "    print(index.name)\n",
        "index_endpoint = mengine.deploy_index()\n",
        "if index_endpoint:\n",
        "    print(f\"Index endpoint resource name: {index_endpoint.name}\")\n",
        "    print(\n",
        "        f\"Index endpoint public domain name: {index_endpoint.public_endpoint_domain_name}\"\n",
        "    )\n",
        "    print(\"Deployed indexes on the index endpoint:\")\n",
        "    for d in index_endpoint.deployed_indexes:\n",
        "        print(f\"    {d.id}\")"
      ]
    },
    {
      "cell_type": "code",
      "execution_count": 55,
      "id": "RFoR3xeInz8H",
      "metadata": {
        "colab": {
          "base_uri": "https://localhost:8080/"
        },
        "executionInfo": {
          "elapsed": 2852,
          "status": "ok",
          "timestamp": 1694073247863,
          "user": {
            "displayName": "",
            "userId": ""
          },
          "user_tz": -120
        },
        "id": "RFoR3xeInz8H",
        "outputId": "f4cd05a6-f6b8-4019-b8a4-0a17f5c54555"
      },
      "outputs": [
        {
          "name": "stdout",
          "output_type": "stream",
          "text": [
            "+ gsutil mb -p project-demo-389821 -l us-central1 gs://project-demo-389821-documents\n",
            "Creating gs://project-demo-389821-documents/...\n",
            "ServiceException: 409 A Cloud Storage bucket named 'project-demo-389821-documents' already exists. Try another name. Bucket names must be globally unique across all Google Cloud projects, including those outside of your organization.\n"
          ]
        }
      ],
      "source": [
        "GCS_BUCKET_DOCS = f\"{PROJECT_ID}-documents\"\n",
        "! set -x && gsutil mb -p $PROJECT_ID -l us-central1 gs://$GCS_BUCKET_DOCS"
      ]
    },
    {
      "cell_type": "code",
      "execution_count": 56,
      "id": "zzgmEhLhn1Y-",
      "metadata": {
        "colab": {
          "base_uri": "https://localhost:8080/"
        },
        "executionInfo": {
          "elapsed": 27592,
          "status": "ok",
          "timestamp": 1694073290702,
          "user": {
            "displayName": "",
            "userId": ""
          },
          "user_tz": -120
        },
        "id": "zzgmEhLhn1Y-",
        "outputId": "8cea1f3c-16a3-4fff-a5e9-2bbba8d18b9b"
      },
      "outputs": [
        {
          "name": "stdout",
          "output_type": "stream",
          "text": [
            "Processing documents from project-demo-389821-documents\n",
            "page_content='The model is wearing a light blue t-shirt tucked in white wide leg pants.' metadata={'source': '/tmp/tmp0rnfx1az/documents/images/1478224712_1_1_1.txt'}\n",
            "page_content='The model is wearing a black and white striped sweater, tan wide leg pants, and black shoes.' metadata={'source': '/tmp/tmp_kconf0g/documents/images/1478431704_1_1_1.txt'}\n",
            "page_content='The model is wearing a black sleeveless t-shirt and white wide leg denim pants.' metadata={'source': '/tmp/tmpen4p0p1q/documents/images/1_1.txt'}\n",
            "page_content='The model is wearing a white shirt with short sleeves and a pair of white wide-leg pants. She has her hands in her pockets and is standing in front of a white wall.' metadata={'source': '/tmp/tmpdkxk60l7/documents/images/1_6.txt'}\n",
            "page_content='The model is wearing a red t-shirt and blue wide leg jeans.' metadata={'source': '/tmp/tmp_k1t25xq/documents/images/1_7.txt'}\n",
            "page_content='The model is wearing a grey coat and wide leg jeans.' metadata={'source': '/tmp/tmp2536n884/documents/images/1_8.txt'}\n",
            "page_content='The model is wearing a green t-shirt tucked in black wide leg jeans.' metadata={'source': '/tmp/tmpaosd5b6z/documents/images/1_9.txt'}\n",
            "page_content='The model is wearing a grey blazer, white shirt, blue jeans and black high heel shoes.' metadata={'source': '/tmp/tmpn_ewx48r/documents/images/2712660826_1_1_1.txt'}\n",
            "page_content='A woman wearing a white tank top and blue wide leg jeans sits on the steps of a building.' metadata={'source': '/tmp/tmpxqddlm2j/documents/images/3641820712_1_1_1.txt'}\n",
            "page_content='The model is wearing a black sleeveless top and white wide leg pants. She is also wearing a necklace and headphones.' metadata={'source': '/tmp/tmp6nzdbgzs/documents/images/3641820800_1_1_1.txt'}\n",
            "page_content='The model is wearing a black sleeveless t-shirt and white denim wide leg pants.' metadata={'source': '/tmp/tmpkz44os6h/documents/images/3641820914_1_1_1.txt'}\n",
            "page_content='The model is wearing a yellow t-shirt and black shorts.' metadata={'source': '/tmp/tmpksq2e_o5/documents/images/4174637703_1_1_1.txt'}\n",
            "page_content='The model is wearing a black crop top with short sleeves and blue denim jeans. The jeans are high-waisted and have a belt. The model has her hands in her pockets.' metadata={'source': '/tmp/tmpl3aalqak/documents/images/4174814800_2_2_1.txt'}\n",
            "page_content='The model is wearing a beige short sleeve top and a short beige skirt.' metadata={'source': '/tmp/tmpcpur8e56/documents/images/4174836505_2_1_1.txt'}\n",
            "page_content='A woman is wearing a red crop top with short sleeves and blue denim jeans.' metadata={'source': '/tmp/tmpg633d4xf/documents/images/4174838670_1_1_1.txt'}\n",
            "page_content='The model is wearing a white long sleeve shirt tucked in wide leg pants.' metadata={'source': '/tmp/tmpq09sen5w/documents/images/7200016250_1_1_1.txt'}\n",
            "page_content='The model is wearing a white shirt and blue jeans.' metadata={'source': '/tmp/tmpoorsf51j/documents/images/7200017800_2_2_1.txt'}\n",
            "page_content='The model is wearing a white tank top and brown cargo pants.' metadata={'source': '/tmp/tmpmhl77s0n/documents/images/7385516505_1_1_1.txt'}\n",
            "page_content='A woman is wearing a beige sweater and blue mom jeans.' metadata={'source': '/tmp/tmpm65i18zd/documents/images/Screenshot 2023-09-06 at 21.txt'}\n",
            "page_content='A woman wearing a blue and white floral dress is sitting on a couch. She is also wearing black tights and black high heel shoes.' metadata={'source': '/tmp/tmph5lafz3t/documents/images/Screenshot 2023-09-06 at 22.txt'}\n",
            "page_content='The model is wearing a green, short sleeve shirt tucked into black, wide leg jeans.' metadata={'source': '/tmp/tmpi9zgvvp0/documents/images/Screenshot 2023-09-07 at 04.txt'}\n",
            "# of documents loaded (pre-chunking) = 21\n"
          ]
        }
      ],
      "source": [
        "\n",
        "print(f\"Processing documents from {GCS_BUCKET_DOCS}\")\n",
        "loader = GCSDirectoryLoader(\n",
        "    project_name=PROJECT_ID, bucket=GCS_BUCKET_DOCS, prefix=folder_prefix\n",
        ")\n",
        "documents = loader.load()\n",
        "\n",
        "# Add document name and source to the metadata\n",
        "for document in documents:\n",
        "    doc_md = document.metadata\n",
        "    print(document)\n",
        "    document_name = doc_md[\"source\"].split(\"/\")[-1]\n",
        "    # derive doc source from Document loader\n",
        "    doc_source_prefix = \"/\".join(GCS_BUCKET_DOCS.split(\"/\")[:3])\n",
        "    doc_source_suffix = \"/\".join(doc_md[\"source\"].split(\"/\")[4:-1])\n",
        "    source = f\"{doc_source_prefix}/{doc_source_suffix}\"\n",
        "    document.metadata = {\"source\": source, \"document_name\": document_name}\n",
        "\n",
        "print(f\"# of documents loaded (pre-chunking) = {len(documents)}\")"
      ]
    },
    {
      "cell_type": "code",
      "execution_count": 57,
      "id": "fB35w8Zgn8L1",
      "metadata": {
        "colab": {
          "base_uri": "https://localhost:8080/"
        },
        "executionInfo": {
          "elapsed": 540,
          "status": "ok",
          "timestamp": 1694073302198,
          "user": {
            "displayName": "",
            "userId": ""
          },
          "user_tz": -120
        },
        "id": "fB35w8Zgn8L1",
        "outputId": "5c684dc6-5bf2-4008-fab1-50afa3ca0aac"
      },
      "outputs": [
        {
          "data": {
            "text/plain": [
              "{'source': 'project-demo-389821-documents/images',\n",
              " 'document_name': '1478224712_1_1_1.txt'}"
            ]
          },
          "execution_count": 57,
          "metadata": {},
          "output_type": "execute_result"
        }
      ],
      "source": [
        "documents[0].metadata"
      ]
    },
    {
      "cell_type": "code",
      "execution_count": 58,
      "id": "X6xkh7Ikn94-",
      "metadata": {
        "colab": {
          "base_uri": "https://localhost:8080/"
        },
        "executionInfo": {
          "elapsed": 4,
          "status": "ok",
          "timestamp": 1694073304999,
          "user": {
            "displayName": "",
            "userId": ""
          },
          "user_tz": -120
        },
        "id": "X6xkh7Ikn94-",
        "outputId": "245361c7-d4fa-4c9f-f3d3-d6dbc10d2d8b"
      },
      "outputs": [
        {
          "name": "stdout",
          "output_type": "stream",
          "text": [
            "# of documents = 21\n"
          ]
        }
      ],
      "source": [
        "# split the documents into chunks\n",
        "text_splitter = RecursiveCharacterTextSplitter(\n",
        "    chunk_size=1000,\n",
        "    chunk_overlap=50,\n",
        "    separators=[\"\\n\\n\", \"\\n\", \".\", \"!\", \"?\", \",\", \" \", \"\"],\n",
        ")\n",
        "doc_splits = text_splitter.split_documents(documents)\n",
        "\n",
        "# Add chunk number to metadata\n",
        "for idx, split in enumerate(doc_splits):\n",
        "    split.metadata[\"chunk\"] = idx\n",
        "\n",
        "print(f\"# of documents = {len(doc_splits)}\")"
      ]
    },
    {
      "cell_type": "code",
      "execution_count": 59,
      "id": "_AgzrSnOn_da",
      "metadata": {
        "colab": {
          "base_uri": "https://localhost:8080/"
        },
        "executionInfo": {
          "elapsed": 3,
          "status": "ok",
          "timestamp": 1694073310913,
          "user": {
            "displayName": "",
            "userId": ""
          },
          "user_tz": -120
        },
        "id": "_AgzrSnOn_da",
        "outputId": "9a62d22a-1183-4716-85c2-c22b18d67b6a"
      },
      "outputs": [
        {
          "data": {
            "text/plain": [
              "{'source': 'project-demo-389821-documents/images',\n",
              " 'document_name': '1478224712_1_1_1.txt',\n",
              " 'chunk': 0}"
            ]
          },
          "execution_count": 59,
          "metadata": {},
          "output_type": "execute_result"
        }
      ],
      "source": [
        "doc_splits[0].metadata"
      ]
    },
    {
      "cell_type": "code",
      "execution_count": 60,
      "id": "NynSonIzoA0i",
      "metadata": {
        "colab": {
          "base_uri": "https://localhost:8080/"
        },
        "executionInfo": {
          "elapsed": 3,
          "status": "ok",
          "timestamp": 1694073313111,
          "user": {
            "displayName": "",
            "userId": ""
          },
          "user_tz": -120
        },
        "id": "NynSonIzoA0i",
        "outputId": "7760317f-8ab5-453c-c04f-5c061ab213cb"
      },
      "outputs": [
        {
          "name": "stdout",
          "output_type": "stream",
          "text": [
            "ME_INDEX_ID=projects/865280436803/locations/us-central1/indexes/3127318932650721280\n",
            "ME_INDEX_ENDPOINT_ID=projects/865280436803/locations/us-central1/indexEndpoints/8335731901704699904\n"
          ]
        }
      ],
      "source": [
        "ME_INDEX_ID, ME_INDEX_ENDPOINT_ID = mengine.get_index_and_endpoint()\n",
        "print(f\"ME_INDEX_ID={ME_INDEX_ID}\")\n",
        "print(f\"ME_INDEX_ENDPOINT_ID={ME_INDEX_ENDPOINT_ID}\")"
      ]
    },
    {
      "cell_type": "code",
      "execution_count": 61,
      "id": "D71Aiht_oC1O",
      "metadata": {
        "executionInfo": {
          "elapsed": 2305,
          "status": "ok",
          "timestamp": 1694073320606,
          "user": {
            "displayName": "",
            "userId": ""
          },
          "user_tz": -120
        },
        "id": "D71Aiht_oC1O"
      },
      "outputs": [],
      "source": [
        "me = MatchingEngine.from_components(\n",
        "    project_id=PROJECT_ID,\n",
        "    region=ME_REGION,\n",
        "    gcs_bucket_name=f\"gs://{ME_EMBEDDING_DIR}\".split(\"/\")[2],\n",
        "    embedding=embeddings,\n",
        "    index_id=ME_INDEX_ID,\n",
        "    endpoint_id=ME_INDEX_ENDPOINT_ID,\n",
        ")"
      ]
    },
    {
      "cell_type": "code",
      "execution_count": 62,
      "id": "1-IX_0WcoElV",
      "metadata": {
        "executionInfo": {
          "elapsed": 3,
          "status": "ok",
          "timestamp": 1694073323490,
          "user": {
            "displayName": "",
            "userId": ""
          },
          "user_tz": -120
        },
        "id": "1-IX_0WcoElV"
      },
      "outputs": [],
      "source": [
        "texts = [doc.page_content for doc in doc_splits]\n",
        "metadatas = [\n",
        "    [\n",
        "        {\"namespace\": \"source\", \"allow_list\": [doc.metadata[\"source\"]]},\n",
        "        {\"namespace\": \"document_name\", \"allow_list\": [doc.metadata[\"document_name\"]]},\n",
        "        {\"namespace\": \"chunk\", \"allow_list\": [str(doc.metadata[\"chunk\"])]},\n",
        "    ]\n",
        "    for doc in doc_splits\n",
        "]"
      ]
    },
    {
      "cell_type": "code",
      "execution_count": 63,
      "id": "A0sMwyMioF_4",
      "metadata": {
        "colab": {
          "base_uri": "https://localhost:8080/"
        },
        "executionInfo": {
          "elapsed": 5224,
          "status": "ok",
          "timestamp": 1694073331890,
          "user": {
            "displayName": "",
            "userId": ""
          },
          "user_tz": -120
        },
        "id": "A0sMwyMioF_4",
        "outputId": "da91c371-6b24-4c10-e299-fd6b430397ad"
      },
      "outputs": [
        {
          "name": "stdout",
          "output_type": "stream",
          "text": [
            "Waiting\n",
            "...."
          ]
        }
      ],
      "source": [
        "doc_ids = me.add_texts(texts=texts, metadatas=metadatas)"
      ]
    },
    {
      "cell_type": "code",
      "execution_count": 64,
      "id": "UtGlAw7DoHrS",
      "metadata": {
        "executionInfo": {
          "elapsed": 4,
          "status": "ok",
          "timestamp": 1694073336497,
          "user": {
            "displayName": "",
            "userId": ""
          },
          "user_tz": -120
        },
        "id": "UtGlAw7DoHrS"
      },
      "outputs": [],
      "source": [
        "NUMBER_OF_RESULTS = 5\n",
        "SEARCH_DISTANCE_THRESHOLD = 0.6\n",
        "\n",
        "# Expose index to the retriever\n",
        "retriever = me.as_retriever(\n",
        "    search_type=\"similarity\",\n",
        "    search_kwargs={\n",
        "        \"k\": NUMBER_OF_RESULTS,\n",
        "        \"search_distance\": SEARCH_DISTANCE_THRESHOLD,\n",
        "    },\n",
        ")"
      ]
    },
    {
      "cell_type": "code",
      "execution_count": 65,
      "id": "bLOEJChPoJZq",
      "metadata": {
        "executionInfo": {
          "elapsed": 3,
          "status": "ok",
          "timestamp": 1694073339240,
          "user": {
            "displayName": "",
            "userId": ""
          },
          "user_tz": -120
        },
        "id": "bLOEJChPoJZq"
      },
      "outputs": [],
      "source": [
        "template = \"\"\"SYSTEM: You are a personal shopper working for a fashion retailer helping users to pick the best combination of clothes based on the information you have of models\n",
        "\n",
        "\n",
        "Question: {question}\n",
        "\n",
        "\n",
        "Strictly use the information you have in thcontext to anser and think step by step.\n",
        "Start the answer saying: According to our new collection:\n",
        "=============\n",
        "{context}\n",
        "=============\n",
        "\n",
        "\"\"\""
      ]
    },
    {
      "cell_type": "code",
      "execution_count": 66,
      "id": "l_uiJ0Nnplyt",
      "metadata": {
        "executionInfo": {
          "elapsed": 1,
          "status": "ok",
          "timestamp": 1694073342335,
          "user": {
            "displayName": "",
            "userId": ""
          },
          "user_tz": -120
        },
        "id": "l_uiJ0Nnplyt"
      },
      "outputs": [],
      "source": [
        "qa = RetrievalQA.from_chain_type(\n",
        "    llm=llm,\n",
        "    chain_type=\"stuff\",\n",
        "    retriever=retriever,\n",
        "    return_source_documents=True,\n",
        "    verbose=True,\n",
        "    chain_type_kwargs={\n",
        "        \"prompt\": PromptTemplate(\n",
        "            template=template,\n",
        "            input_variables=[\"context\", \"question\"],\n",
        "        ),\n",
        "    },\n",
        ")"
      ]
    },
    {
      "cell_type": "code",
      "execution_count": 67,
      "id": "j2v7BRm2pnn3",
      "metadata": {
        "executionInfo": {
          "elapsed": 358,
          "status": "ok",
          "timestamp": 1694073346194,
          "user": {
            "displayName": "",
            "userId": ""
          },
          "user_tz": -120
        },
        "id": "j2v7BRm2pnn3"
      },
      "outputs": [],
      "source": [
        "qa.combine_documents_chain.verbose = True\n",
        "qa.combine_documents_chain.llm_chain.verbose = True\n",
        "qa.combine_documents_chain.llm_chain.llm.verbose = True"
      ]
    },
    {
      "cell_type": "code",
      "execution_count": 68,
      "id": "biJSh7dvpqBB",
      "metadata": {
        "executionInfo": {
          "elapsed": 3,
          "status": "ok",
          "timestamp": 1694073348190,
          "user": {
            "displayName": "",
            "userId": ""
          },
          "user_tz": -120
        },
        "id": "biJSh7dvpqBB"
      },
      "outputs": [],
      "source": [
        "def formatter(result):\n",
        "    print(f\"Query: {result['query']}\")\n",
        "    print(\".\" * 80)\n",
        "    if \"source_documents\" in result.keys():\n",
        "        for idx, ref in enumerate(result[\"source_documents\"]):\n",
        "            print(\"-\" * 80)\n",
        "            print(f\"REFERENCE #{idx}\")\n",
        "            print(\"-\" * 80)\n",
        "            if \"score\" in ref.metadata:\n",
        "                print(f\"Matching Score: {ref.metadata['score']}\")\n",
        "            if \"source\" in ref.metadata:\n",
        "                print(f\"Document Source: {ref.metadata['source']}\")\n",
        "            if \"document_name\" in ref.metadata:\n",
        "                print(f\"Document Name: {ref.metadata['document_name']}\")\n",
        "            print(\".\" * 80)\n",
        "            print(f\"Content: \\n{wrap(ref.page_content)}\")\n",
        "    print(\".\" * 80)\n",
        "    print(f\"Response: {wrap(result['result'])}\")\n",
        "    print(\".\" * 80)\n",
        "\n",
        "\n",
        "def wrap(s):\n",
        "    return \"\\n\".join(textwrap.wrap(s, width=120, break_long_words=False))\n",
        "\n",
        "\n",
        "def ask(query, qa=qa, k=NUMBER_OF_RESULTS, search_distance=SEARCH_DISTANCE_THRESHOLD):\n",
        "    qa.retriever.search_kwargs[\"search_distance\"] = search_distance\n",
        "    qa.retriever.search_kwargs[\"k\"] = 10\n",
        "    result = qa({\"query\": query})\n",
        "    return (result)"
      ]
    },
    {
      "cell_type": "code",
      "execution_count": 70,
      "id": "A2qz0prAprjM",
      "metadata": {
        "colab": {
          "base_uri": "https://localhost:8080/"
        },
        "executionInfo": {
          "elapsed": 1888,
          "status": "ok",
          "timestamp": 1694073384096,
          "user": {
            "displayName": "",
            "userId": ""
          },
          "user_tz": -120
        },
        "id": "A2qz0prAprjM",
        "outputId": "10574848-356a-466d-b0bb-d2972914518d"
      },
      "outputs": [
        {
          "name": "stdout",
          "output_type": "stream",
          "text": [
            "\n",
            "\n",
            "\u001b[1m> Entering new  chain...\u001b[0m\n",
            "Waiting\n",
            "\n",
            "\n",
            "\u001b[1m> Entering new  chain...\u001b[0m\n",
            "\n",
            "\n",
            "\u001b[1m> Entering new  chain...\u001b[0m\n",
            "Prompt after formatting:\n",
            "\u001b[32;1m\u001b[1;3mSYSTEM: You are a personal shopper working for a fashion retailer helping users to pick the best combination of clothes based on the information you have of models\n",
            "\n",
            "\n",
            "Question: I have white trousers, what do combine with it\n",
            "\n",
            "\n",
            "Strictly use the information you have in thcontext to anser and think step by step.\n",
            "Start the answer saying: According to our new collection:\n",
            "=============\n",
            "\n",
            "\n",
            "\n",
            "\n",
            "\n",
            "\n",
            "\n",
            "\n",
            "The model is wearing a black sleeveless t-shirt and white denim wide leg pants.\n",
            "\n",
            "The model is wearing a black sleeveless t-shirt and white denim wide leg pants.\n",
            "\n",
            "\n",
            "\n",
            "\n",
            "\n",
            "\n",
            "\n",
            "\n",
            "=============\n",
            "\n",
            "\u001b[0m\n",
            "\n",
            "\u001b[1m> Finished chain.\u001b[0m\n",
            "\n",
            "\u001b[1m> Finished chain.\u001b[0m\n",
            "\n",
            "\u001b[1m> Finished chain.\u001b[0m\n"
          ]
        },
        {
          "data": {
            "text/plain": [
              "{'query': 'I have white trousers, what do combine with it',\n",
              " 'result': ' According to our new collection: You could combine white trousers with a black sleeveless t-shirt.',\n",
              " 'source_documents': [Document(page_content='', metadata={'source': 'project-demo-389821-documents/images', 'document_name': '1478224712_1_1_1.txt', 'chunk': '0', 'score': 0.7282194495201111}),\n",
              "  Document(page_content='', metadata={'source': 'project-demo-389821-documents/images', 'document_name': '1478224712_1_1_1.txt', 'chunk': '0', 'score': 0.7282194495201111}),\n",
              "  Document(page_content='', metadata={'source': 'project-demo-389821-documents/images', 'document_name': '1478224712_1_1_1.txt', 'chunk': '0', 'score': 0.7282194495201111}),\n",
              "  Document(page_content='', metadata={'source': 'project-demo-389821-documents/images', 'document_name': '1478224712_1_1_1.txt', 'chunk': '0', 'score': 0.7282194495201111}),\n",
              "  Document(page_content='The model is wearing a black sleeveless t-shirt and white denim wide leg pants.', metadata={'source': 'project-demo-389821-documents/images', 'document_name': '3641820914_1_1_1.txt', 'chunk': '10', 'score': 0.6454162001609802}),\n",
              "  Document(page_content='The model is wearing a black sleeveless t-shirt and white denim wide leg pants.', metadata={'source': 'project-demo-389821-documents/images', 'document_name': '3641820914_1_1_1.txt', 'chunk': '10', 'score': 0.6454162001609802}),\n",
              "  Document(page_content='', metadata={'source': 'project-demo-389821-documents/images', 'document_name': '7200016250_1_1_1.txt', 'chunk': '9', 'score': 0.6431999206542969}),\n",
              "  Document(page_content='', metadata={'source': 'project-demo-389821-documents/images', 'document_name': '3641820914_1_1_1.txt', 'chunk': '5', 'score': 0.6378195285797119}),\n",
              "  Document(page_content='', metadata={'source': 'project-demo-389821-documents/images', 'document_name': '3641820914_1_1_1.txt', 'chunk': '5', 'score': 0.6378195285797119}),\n",
              "  Document(page_content='', metadata={'source': 'project-demo-389821-documents/images', 'document_name': '3641820914_1_1_1.txt', 'chunk': '5', 'score': 0.6378195285797119})]}"
            ]
          },
          "execution_count": 70,
          "metadata": {},
          "output_type": "execute_result"
        }
      ],
      "source": [
        "ask(\"I have white trousers, what do combine with it\")"
      ]
    },
    {
      "cell_type": "code",
      "execution_count": null,
      "id": "1BZelmNkBFr_",
      "metadata": {
        "id": "1BZelmNkBFr_"
      },
      "outputs": [],
      "source": []
    }
  ],
  "metadata": {
    "colab": {
      "provenance": []
    },
    "kernelspec": {
      "display_name": "Python 3 (ipykernel)",
      "language": "python",
      "name": "python3"
    },
    "language_info": {
      "codemirror_mode": {
        "name": "ipython",
        "version": 3
      },
      "file_extension": ".py",
      "mimetype": "text/x-python",
      "name": "python",
      "nbconvert_exporter": "python",
      "pygments_lexer": "ipython3",
      "version": "3.10.4"
    }
  },
  "nbformat": 4,
  "nbformat_minor": 5
}
